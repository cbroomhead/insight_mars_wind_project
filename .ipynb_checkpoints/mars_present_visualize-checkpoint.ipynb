{
 "cells": [
  {
   "cell_type": "code",
   "execution_count": 1,
   "metadata": {
    "slideshow": {
     "slide_type": "-"
    }
   },
   "outputs": [],
   "source": [
    "import pandas as pd\n",
    "import plotly.express as px\n",
    "from sqlalchemy import create_engine, insert\n",
    "import sqlalchemy as sal\n",
    "import ipywidgets as widgets\n",
    "from ipywidgets import interact\n",
    "from IPython.display import display, Markdown, clear_output"
   ]
  },
  {
   "cell_type": "markdown",
   "metadata": {
    "slideshow": {
     "slide_type": "-"
    }
   },
   "source": [
    "###  Query sol data from SQL database"
   ]
  },
  {
   "cell_type": "code",
   "execution_count": null,
   "metadata": {
    "slideshow": {
     "slide_type": "-"
    }
   },
   "outputs": [],
   "source": [
    "def connect_db():\n",
    "    # establish connection to the database\n",
    "    engine = sal.create_engine('sqlite:///marswind.db')\n",
    "    # storing tables from database into dataframe\n",
    "    df = pd.read_sql('SELECT * FROM master', engine)\n",
    "    # get list of unique sols in the database\n",
    "    # this will serve a selection list to display wind roses\n",
    "    unique_sols = df['sol'].unique().tolist()"
   ]
  },
  {
   "cell_type": "code",
   "execution_count": 5,
   "metadata": {
    "slideshow": {
     "slide_type": "-"
    }
   },
   "outputs": [],
   "source": [
    "def create_sol_df(df, sol):\n",
    "    sol_df = df[df['sol'] == sol]\n",
    "    return sol_df"
   ]
  },
  {
   "cell_type": "code",
   "execution_count": 6,
   "metadata": {
    "slideshow": {
     "slide_type": "-"
    }
   },
   "outputs": [
    {
     "data": {
      "application/vnd.jupyter.widget-view+json": {
       "model_id": "ac8f5e2dc09c422b90c460fbab66e2d4",
       "version_major": 2,
       "version_minor": 0
      },
      "text/plain": [
       "VBox(children=(Dropdown(description='Select Sol:', options=(708, 709), value=708), Button(description='Graph!'…"
      ]
     },
     "metadata": {},
     "output_type": "display_data"
    }
   ],
   "source": [
    "# defining sol picker\n",
    "menu = widgets.Dropdown(\n",
    "       options= unique_sols,\n",
    "       disabled=False,\n",
    "       description='Select Sol:')\n",
    "\n",
    "# defining button and what it should dp\n",
    "button = widgets.Button(description='Graph!')\n",
    "out = widgets.Output()\n",
    "\n",
    "def on_button_clicked(_):\n",
    "      # \"linking function with output\"\n",
    "    with out:\n",
    "          # what happens when we press the button\n",
    "        clear_output()\n",
    "        connect_db()\n",
    "        user_input = int(menu.value)\n",
    "        new_df = create_sol_df(df, user_input)\n",
    "        #print(new_df)\n",
    "        graph_polar(new_df)\n",
    "            \n",
    "            \n",
    "# linking button and function together using a button's method\n",
    "button.on_click(on_button_clicked)\n",
    "# displaying button and its output together\n",
    "widgets.VBox([menu, button,out])"
   ]
  },
  {
   "cell_type": "markdown",
   "metadata": {
    "slideshow": {
     "slide_type": "-"
    }
   },
   "source": [
    "### Graph Wind Rose "
   ]
  },
  {
   "cell_type": "code",
   "execution_count": 92,
   "metadata": {
    "slideshow": {
     "slide_type": "-"
    }
   },
   "outputs": [],
   "source": [
    "import plotly.graph_objects as go\n",
    "\n",
    "def graph_polar(wind):\n",
    "\n",
    "    fig = go.Figure()\n",
    "\n",
    "    fig.add_trace(go.Barpolar(\n",
    "    r = wind['ct'],\n",
    "    theta = wind['compass_point'],\n",
    "    name='# recorded samples',\n",
    "    marker_color='rgb(204,85,0)',\n",
    "    marker_opacity= 0.6\n",
    "    ))\n",
    "\n",
    "    fig.update_layout(\n",
    "    title='Wind Direction on Planet Mars',\n",
    "    font_size=16,\n",
    "    legend_font_size=12,\n",
    "    polar_angularaxis_rotation=90,\n",
    "    direction= \"counterclockwise\",\n",
    "    showlegend = True   \n",
    "    )\n",
    "\n",
    "    fig.show()"
   ]
  },
  {
   "cell_type": "code",
   "execution_count": null,
   "metadata": {},
   "outputs": [],
   "source": [
    "interact(on_button_clicked, graph_polar)"
   ]
  }
 ],
 "metadata": {
  "celltoolbar": "Slideshow",
  "kernelspec": {
   "display_name": "Python 3",
   "language": "python",
   "name": "python3"
  },
  "language_info": {
   "codemirror_mode": {
    "name": "ipython",
    "version": 3
   },
   "file_extension": ".py",
   "mimetype": "text/x-python",
   "name": "python",
   "nbconvert_exporter": "python",
   "pygments_lexer": "ipython3",
   "version": "3.8.3"
  }
 },
 "nbformat": 4,
 "nbformat_minor": 4
}
